{
 "cells": [
  {
   "cell_type": "code",
   "execution_count": 9,
   "metadata": {},
   "outputs": [
    {
     "name": "stdout",
     "output_type": "stream",
     "text": [
      "['tapo', 'riya', 'momo', 'mima', 'mimi']\n"
     ]
    }
   ],
   "source": [
    "#REVERSE\n",
    "list= ['mimi', 'mima', 'momo', 'riya', 'tapo']\n",
    "print(list[::-])"
   ]
  },
  {
   "cell_type": "code",
   "execution_count": 1,
   "metadata": {},
   "outputs": [
    {
     "name": "stdout",
     "output_type": "stream",
     "text": [
      "open\n",
      "2.5\n",
      "close program\n"
     ]
    }
   ],
   "source": [
    "#Think for any exception scenario and prepare one custom exception\n",
    "a=5\n",
    "b=2\n",
    "try:\n",
    "    print(\"open\")\n",
    "    print(a/b)\n",
    "except exception:\n",
    "    print(\"it is not divisible by 0\")\n",
    "  \n",
    "print(\"close program\")   "
   ]
  },
  {
   "cell_type": "code",
   "execution_count": 10,
   "metadata": {},
   "outputs": [
    {
     "name": "stdout",
     "output_type": "stream",
     "text": [
      "open\n",
      "it is not divisible by 0\n",
      "close program\n"
     ]
    }
   ],
   "source": [
    "#Think for any exception scenario and prepare one custom exception\n",
    "a=5\n",
    "b=0\n",
    "try:\n",
    "    print(\"open\")\n",
    "    print(a/b)\n",
    "except Exception:\n",
    "    print(\"it is not divisible by 0\")\n",
    "print(\"close program\") "
   ]
  },
  {
   "cell_type": "code",
   "execution_count": 17,
   "metadata": {},
   "outputs": [
    {
     "name": "stdout",
     "output_type": "stream",
     "text": [
      "['kakali', 'momo', 'oli', 'riya', 'tapo']\n"
     ]
    }
   ],
   "source": [
    "#SORTING\n",
    "list1=['kakali', 'momo', 'oli', 'tapo', 'riya']\n",
    "list2=[]\n",
    "while list1:\n",
    "    for x in list1:\n",
    "      min=list1[0]\n",
    "      if(x<min):\n",
    "       min=x\n",
    "    list2.append(min)\n",
    "    list1.remove(min)\n",
    "print(list2)        "
   ]
  },
  {
   "cell_type": "code",
   "execution_count": null,
   "metadata": {},
   "outputs": [],
   "source": []
  },
  {
   "cell_type": "code",
   "execution_count": null,
   "metadata": {},
   "outputs": [],
   "source": []
  }
 ],
 "metadata": {
  "kernelspec": {
   "display_name": "Python 3",
   "language": "python",
   "name": "python3"
  },
  "language_info": {
   "codemirror_mode": {
    "name": "ipython",
    "version": 3
   },
   "file_extension": ".py",
   "mimetype": "text/x-python",
   "name": "python",
   "nbconvert_exporter": "python",
   "pygments_lexer": "ipython3",
   "version": "3.8.5"
  }
 },
 "nbformat": 4,
 "nbformat_minor": 4
}
